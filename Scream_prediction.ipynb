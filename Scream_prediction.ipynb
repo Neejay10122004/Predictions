{
  "cells": [
    {
      "cell_type": "markdown",
      "metadata": {
        "id": "view-in-github",
        "colab_type": "text"
      },
      "source": [
        "<a href=\"https://colab.research.google.com/github/Neejay10122004/Predictions/blob/main/Scream_prediction.ipynb\" target=\"_parent\"><img src=\"https://colab.research.google.com/assets/colab-badge.svg\" alt=\"Open In Colab\"/></a>"
      ]
    },
    {
      "cell_type": "code",
      "execution_count": null,
      "metadata": {
        "ExecuteTime": {
          "end_time": "2023-10-13T11:40:10.341424700Z",
          "start_time": "2023-10-13T11:40:06.765626600Z"
        },
        "execution": {
          "iopub.execute_input": "2024-05-25T09:20:15.220830Z",
          "iopub.status.busy": "2024-05-25T09:20:15.220031Z",
          "iopub.status.idle": "2024-05-25T09:20:19.924472Z",
          "shell.execute_reply": "2024-05-25T09:20:19.923405Z",
          "shell.execute_reply.started": "2024-05-25T09:20:15.220791Z"
        },
        "trusted": true,
        "id": "eM2lrFwJV934"
      },
      "outputs": [],
      "source": [
        "import os\n",
        "\n",
        "import torchaudio\n",
        "import torch\n",
        "import matplotlib.pyplot as plt\n",
        "from pathlib import Path"
      ]
    },
    {
      "cell_type": "markdown",
      "metadata": {
        "id": "mEEATiFRV935"
      },
      "source": [
        "# Load the data"
      ]
    },
    {
      "cell_type": "code",
      "execution_count": null,
      "metadata": {
        "ExecuteTime": {
          "end_time": "2023-10-13T11:40:11.571470600Z",
          "start_time": "2023-10-13T11:40:11.542473400Z"
        },
        "execution": {
          "iopub.execute_input": "2024-05-25T09:20:19.927116Z",
          "iopub.status.busy": "2024-05-25T09:20:19.926333Z",
          "iopub.status.idle": "2024-05-25T09:20:19.934180Z",
          "shell.execute_reply": "2024-05-25T09:20:19.933307Z",
          "shell.execute_reply.started": "2024-05-25T09:20:19.927079Z"
        },
        "jupyter": {
          "outputs_hidden": false
        },
        "trusted": true,
        "id": "RBKY43IMV937"
      },
      "outputs": [],
      "source": [
        "def load_audio_files(path: str, label: str):\n",
        "    dataset = []\n",
        "\n",
        "    walker = sorted(str(p) for p in Path(path).glob('*.wav'))\n",
        "\n",
        "    for i, file_path in enumerate(walker):\n",
        "        path, filename = os.path.split(file_path)\n",
        "        name, _ = os.path.splitext(filename)\n",
        "\n",
        "        waveform, sample_rate = torchaudio.load(file_path)\n",
        "\n",
        "        entry = {'waveform': waveform, 'sample_rate': sample_rate, 'label': label, 'id': i}\n",
        "\n",
        "        dataset.append(entry)\n",
        "\n",
        "    return dataset"
      ]
    },
    {
      "cell_type": "code",
      "execution_count": null,
      "metadata": {
        "ExecuteTime": {
          "end_time": "2023-10-13T11:40:18.436450400Z",
          "start_time": "2023-10-13T11:40:13.552255400Z"
        },
        "execution": {
          "iopub.execute_input": "2024-05-25T09:20:19.936054Z",
          "iopub.status.busy": "2024-05-25T09:20:19.935699Z",
          "iopub.status.idle": "2024-05-25T09:20:48.187388Z",
          "shell.execute_reply": "2024-05-25T09:20:48.186177Z",
          "shell.execute_reply.started": "2024-05-25T09:20:19.936025Z"
        },
        "jupyter": {
          "outputs_hidden": false
        },
        "trusted": true,
        "colab": {
          "base_uri": "https://localhost:8080/"
        },
        "id": "fQ0v2Yb8V938",
        "outputId": "9492644a-9e63-4be3-bd29-2b0789d87336"
      },
      "outputs": [
        {
          "output_type": "execute_result",
          "data": {
            "text/plain": [
              "[]"
            ]
          },
          "metadata": {},
          "execution_count": 11
        }
      ],
      "source": [
        "screaming_dataset = load_audio_files('/kaggle/input/human-screaming-detection-dataset/Screaming', 'yes')\n",
        "\n",
        "screaming_dataset[:5]"
      ]
    },
    {
      "cell_type": "code",
      "execution_count": null,
      "metadata": {
        "ExecuteTime": {
          "end_time": "2023-10-13T11:41:23.806566700Z",
          "start_time": "2023-10-13T11:40:20.937443Z"
        },
        "execution": {
          "iopub.execute_input": "2024-05-25T09:20:48.191696Z",
          "iopub.status.busy": "2024-05-25T09:20:48.191158Z",
          "iopub.status.idle": "2024-05-25T09:22:26.512515Z",
          "shell.execute_reply": "2024-05-25T09:22:26.511350Z",
          "shell.execute_reply.started": "2024-05-25T09:20:48.191640Z"
        },
        "jupyter": {
          "outputs_hidden": false
        },
        "trusted": true,
        "colab": {
          "base_uri": "https://localhost:8080/"
        },
        "id": "wiFKxlDsV939",
        "outputId": "1d528168-9fd6-45b2-d347-fd78454f5438"
      },
      "outputs": [
        {
          "output_type": "execute_result",
          "data": {
            "text/plain": [
              "[]"
            ]
          },
          "metadata": {},
          "execution_count": 12
        }
      ],
      "source": [
        "not_screaming_dataset = load_audio_files('/kaggle/input/human-screaming-detection-dataset/NotScreaming', 'not')\n",
        "\n",
        "not_screaming_dataset[:5]"
      ]
    },
    {
      "cell_type": "code",
      "execution_count": null,
      "metadata": {
        "ExecuteTime": {
          "end_time": "2023-10-13T11:46:46.218554700Z",
          "start_time": "2023-10-13T11:46:46.186720500Z"
        },
        "execution": {
          "iopub.execute_input": "2024-05-25T09:22:26.514291Z",
          "iopub.status.busy": "2024-05-25T09:22:26.513950Z",
          "iopub.status.idle": "2024-05-25T09:22:26.524064Z",
          "shell.execute_reply": "2024-05-25T09:22:26.522692Z",
          "shell.execute_reply.started": "2024-05-25T09:22:26.514262Z"
        },
        "jupyter": {
          "outputs_hidden": false
        },
        "trusted": true,
        "colab": {
          "base_uri": "https://localhost:8080/",
          "height": 53
        },
        "id": "K4VdkI2tV939",
        "outputId": "a0a05230-6e85-4792-89cd-7290944fa5ac"
      },
      "outputs": [
        {
          "output_type": "display_data",
          "data": {
            "text/plain": [
              "0"
            ]
          },
          "metadata": {}
        },
        {
          "output_type": "display_data",
          "data": {
            "text/plain": [
              "0"
            ]
          },
          "metadata": {}
        }
      ],
      "source": [
        "display(len(screaming_dataset), len(not_screaming_dataset))"
      ]
    },
    {
      "cell_type": "markdown",
      "metadata": {
        "id": "u13tGyz9V939"
      },
      "source": [
        "# Check the sample of the data"
      ]
    },
    {
      "cell_type": "code",
      "execution_count": null,
      "metadata": {
        "ExecuteTime": {
          "end_time": "2023-10-13T11:46:47.425646400Z",
          "start_time": "2023-10-13T11:46:47.382177200Z"
        },
        "execution": {
          "iopub.execute_input": "2024-05-25T09:22:26.526006Z",
          "iopub.status.busy": "2024-05-25T09:22:26.525613Z",
          "iopub.status.idle": "2024-05-25T09:22:26.538352Z",
          "shell.execute_reply": "2024-05-25T09:22:26.536828Z",
          "shell.execute_reply.started": "2024-05-25T09:22:26.525964Z"
        },
        "jupyter": {
          "outputs_hidden": false
        },
        "trusted": true,
        "colab": {
          "base_uri": "https://localhost:8080/"
        },
        "id": "Dg4EuRE-V93-",
        "outputId": "8917a28c-4caa-4a0c-b299-47aab895cdd6"
      },
      "outputs": [
        {
          "output_type": "stream",
          "name": "stdout",
          "text": [
            "Error: scream_id 5 is out of range. Valid indices are 0 to -1.\n",
            "Error: no_scream_id 0 is out of range. Valid indices are 0 to -1.\n"
          ]
        }
      ],
      "source": [
        "scream_id = 5\n",
        "no_scream_id = 0\n",
        "\n",
        "screaming_waveform = screaming_dataset[scream_id]['waveform']\n",
        "screaming_sample_rate = screaming_dataset[scream_id]['sample_rate']\n",
        "\n",
        "print(f'Screaming Waveform: {screaming_waveform}')\n",
        "print(f'Screaming Sample Rate: {screaming_sample_rate}')\n",
        "print(f'Screaming Label: {screaming_dataset[scream_id][\"label\"]}')\n",
        "print(f'Screaming ID: {screaming_dataset[scream_id][\"id\"]} \\n')\n",
        "\n",
        "not_screaming_waveform = not_screaming_dataset[no_scream_id]['waveform']\n",
        "not_screaming_sample_rate = not_screaming_dataset[no_scream_id]['sample_rate']\n",
        "\n",
        "print(f'Screaming Waveform: {not_screaming_waveform}')\n",
        "print(f'Screaming Sample Rate: {not_screaming_sample_rate}')\n",
        "print(f'Screaming Label: {not_screaming_dataset[no_scream_id][\"label\"]}')\n",
        "print(f'Screaming ID: {not_screaming_dataset[no_scream_id][\"id\"]} \\n')"
      ]
    },
    {
      "cell_type": "code",
      "execution_count": null,
      "metadata": {
        "ExecuteTime": {
          "end_time": "2023-10-13T11:46:49.128959500Z",
          "start_time": "2023-10-13T11:46:49.099919100Z"
        },
        "execution": {
          "iopub.execute_input": "2024-05-25T09:22:26.540587Z",
          "iopub.status.busy": "2024-05-25T09:22:26.540207Z",
          "iopub.status.idle": "2024-05-25T09:22:26.550705Z",
          "shell.execute_reply": "2024-05-25T09:22:26.549468Z",
          "shell.execute_reply.started": "2024-05-25T09:22:26.540554Z"
        },
        "jupyter": {
          "outputs_hidden": false
        },
        "trusted": true,
        "id": "_zc80VYrV93-"
      },
      "outputs": [],
      "source": [
        "def show_waveform(waveform, sample_rate, label):\n",
        "    print(\"Waveform: {}\\nSample rate: {}\\nLabels: {} \\n\".format(waveform, sample_rate, label))\n",
        "\n",
        "    new_sample_rate = sample_rate / 10\n",
        "\n",
        "    channel = 0\n",
        "\n",
        "    waveform_transformed = torchaudio.transforms.Resample(sample_rate, new_sample_rate)(waveform[channel, :].view(1, -1))\n",
        "\n",
        "    print(\"Shape of transformed waveform: {}\\nSample rate: {}\".format(waveform_transformed.size(), new_sample_rate))\n",
        "\n",
        "    plt.figure()\n",
        "    plt.plot(waveform_transformed[0, :].numpy())"
      ]
    },
    {
      "cell_type": "code",
      "execution_count": null,
      "metadata": {
        "ExecuteTime": {
          "end_time": "2023-10-13T11:46:51.268486100Z",
          "start_time": "2023-10-13T11:46:50.326168400Z"
        },
        "execution": {
          "iopub.execute_input": "2024-05-25T09:22:26.552792Z",
          "iopub.status.busy": "2024-05-25T09:22:26.552409Z",
          "iopub.status.idle": "2024-05-25T09:22:27.128403Z",
          "shell.execute_reply": "2024-05-25T09:22:27.127112Z",
          "shell.execute_reply.started": "2024-05-25T09:22:26.552760Z"
        },
        "jupyter": {
          "outputs_hidden": false
        },
        "trusted": true,
        "colab": {
          "base_uri": "https://localhost:8080/",
          "height": 146
        },
        "id": "thP_lpakV93-",
        "outputId": "4882f132-1472-4225-b723-2cb848cd6178"
      },
      "outputs": [
        {
          "output_type": "error",
          "ename": "NameError",
          "evalue": "name 'screaming_waveform' is not defined",
          "traceback": [
            "\u001b[0;31m---------------------------------------------------------------------------\u001b[0m",
            "\u001b[0;31mNameError\u001b[0m                                 Traceback (most recent call last)",
            "\u001b[0;32m<ipython-input-16-47c7b20cd9b1>\u001b[0m in \u001b[0;36m<cell line: 1>\u001b[0;34m()\u001b[0m\n\u001b[0;32m----> 1\u001b[0;31m \u001b[0mshow_waveform\u001b[0m\u001b[0;34m(\u001b[0m\u001b[0mscreaming_waveform\u001b[0m\u001b[0;34m,\u001b[0m \u001b[0mscreaming_sample_rate\u001b[0m\u001b[0;34m,\u001b[0m \u001b[0;34m'yes'\u001b[0m\u001b[0;34m)\u001b[0m\u001b[0;34m\u001b[0m\u001b[0;34m\u001b[0m\u001b[0m\n\u001b[0m",
            "\u001b[0;31mNameError\u001b[0m: name 'screaming_waveform' is not defined"
          ]
        }
      ],
      "source": [
        "show_waveform(screaming_waveform, screaming_sample_rate, 'yes')"
      ]
    },
    {
      "cell_type": "code",
      "execution_count": null,
      "metadata": {
        "ExecuteTime": {
          "end_time": "2023-10-13T11:46:55.938628800Z",
          "start_time": "2023-10-13T11:46:55.808040700Z"
        },
        "execution": {
          "iopub.execute_input": "2024-05-25T09:22:27.130716Z",
          "iopub.status.busy": "2024-05-25T09:22:27.130249Z",
          "iopub.status.idle": "2024-05-25T09:22:27.214703Z",
          "shell.execute_reply": "2024-05-25T09:22:27.213338Z",
          "shell.execute_reply.started": "2024-05-25T09:22:27.130671Z"
        },
        "jupyter": {
          "outputs_hidden": false
        },
        "trusted": true,
        "id": "XwgSl1dkV93-"
      },
      "outputs": [],
      "source": [
        "import IPython.display as ipd\n",
        "\n",
        "ipd.Audio(screaming_waveform.numpy(), rate=screaming_sample_rate)"
      ]
    },
    {
      "cell_type": "code",
      "execution_count": null,
      "metadata": {
        "ExecuteTime": {
          "end_time": "2023-10-13T11:47:20.943053200Z",
          "start_time": "2023-10-13T11:47:20.701022Z"
        },
        "execution": {
          "iopub.execute_input": "2024-05-25T09:22:27.219718Z",
          "iopub.status.busy": "2024-05-25T09:22:27.219262Z",
          "iopub.status.idle": "2024-05-25T09:22:27.677134Z",
          "shell.execute_reply": "2024-05-25T09:22:27.675945Z",
          "shell.execute_reply.started": "2024-05-25T09:22:27.219685Z"
        },
        "jupyter": {
          "outputs_hidden": false
        },
        "trusted": true,
        "id": "YjbRiJLpV93_"
      },
      "outputs": [],
      "source": [
        "show_waveform(not_screaming_waveform, not_screaming_sample_rate, 'not')"
      ]
    },
    {
      "cell_type": "code",
      "execution_count": null,
      "metadata": {
        "ExecuteTime": {
          "end_time": "2023-10-13T11:47:36.547379600Z",
          "start_time": "2023-10-13T11:47:36.459534100Z"
        },
        "execution": {
          "iopub.execute_input": "2024-05-25T09:22:27.679962Z",
          "iopub.status.busy": "2024-05-25T09:22:27.678813Z",
          "iopub.status.idle": "2024-05-25T09:22:27.736606Z",
          "shell.execute_reply": "2024-05-25T09:22:27.735232Z",
          "shell.execute_reply.started": "2024-05-25T09:22:27.679922Z"
        },
        "jupyter": {
          "outputs_hidden": false
        },
        "trusted": true,
        "id": "VezEbTV9V93_"
      },
      "outputs": [],
      "source": [
        "ipd.Audio(not_screaming_waveform.numpy(), rate=not_screaming_sample_rate)"
      ]
    },
    {
      "cell_type": "markdown",
      "metadata": {
        "id": "q8g5uR5XV93_"
      },
      "source": [
        "# View with spectrogram"
      ]
    },
    {
      "cell_type": "code",
      "execution_count": null,
      "metadata": {
        "ExecuteTime": {
          "end_time": "2023-10-13T11:47:38.498206600Z",
          "start_time": "2023-10-13T11:47:38.479207600Z"
        },
        "execution": {
          "iopub.execute_input": "2024-05-25T09:22:27.738646Z",
          "iopub.status.busy": "2024-05-25T09:22:27.738297Z",
          "iopub.status.idle": "2024-05-25T09:22:27.748995Z",
          "shell.execute_reply": "2024-05-25T09:22:27.747828Z",
          "shell.execute_reply.started": "2024-05-25T09:22:27.738616Z"
        },
        "jupyter": {
          "outputs_hidden": false
        },
        "trusted": true,
        "id": "PXyVyP82V94A"
      },
      "outputs": [],
      "source": [
        "def show_spectrogram(waveform_classA, waveform_classB):\n",
        "    yes_spectrogram = torchaudio.transforms.Spectrogram()(waveform_classA)\n",
        "    print(\"\\nShape of yes spectrogram: {}\".format(yes_spectrogram.size()))\n",
        "\n",
        "    no_spectrogram = torchaudio.transforms.Spectrogram()(waveform_classB)\n",
        "    print(\"Shape of no spectrogram: {}\".format(no_spectrogram.size()))\n",
        "\n",
        "    plt.figure()\n",
        "\n",
        "    plt.subplot(1, 2, 1)\n",
        "    plt.title(\"Features of {}\".format('yes'))\n",
        "\n",
        "    plt.imshow(yes_spectrogram.log2()[0, :, :].numpy(), cmap='viridis', aspect='auto')\n",
        "\n",
        "    plt.subplot(1, 2, 2)\n",
        "    plt.title(\"Features of {}\".format('no'))\n",
        "\n",
        "    plt.imshow(no_spectrogram.log2()[0, :, :].numpy(), cmap='viridis', aspect='auto')"
      ]
    },
    {
      "cell_type": "code",
      "execution_count": null,
      "metadata": {
        "ExecuteTime": {
          "end_time": "2023-10-13T11:47:40.058863500Z",
          "start_time": "2023-10-13T11:47:39.494202900Z"
        },
        "execution": {
          "iopub.execute_input": "2024-05-25T09:22:27.751665Z",
          "iopub.status.busy": "2024-05-25T09:22:27.751177Z",
          "iopub.status.idle": "2024-05-25T09:22:28.631244Z",
          "shell.execute_reply": "2024-05-25T09:22:28.630075Z",
          "shell.execute_reply.started": "2024-05-25T09:22:27.751625Z"
        },
        "jupyter": {
          "outputs_hidden": false
        },
        "trusted": true,
        "id": "R8Gcmj5RV94A"
      },
      "outputs": [],
      "source": [
        "show_spectrogram(screaming_waveform, not_screaming_waveform)"
      ]
    },
    {
      "cell_type": "code",
      "execution_count": null,
      "metadata": {
        "ExecuteTime": {
          "end_time": "2023-10-13T11:47:57.847811200Z",
          "start_time": "2023-10-13T11:47:57.756136500Z"
        },
        "execution": {
          "iopub.execute_input": "2024-05-25T09:22:28.633390Z",
          "iopub.status.busy": "2024-05-25T09:22:28.633016Z",
          "iopub.status.idle": "2024-05-25T09:22:28.641762Z",
          "shell.execute_reply": "2024-05-25T09:22:28.640917Z",
          "shell.execute_reply.started": "2024-05-25T09:22:28.633354Z"
        },
        "jupyter": {
          "outputs_hidden": false
        },
        "trusted": true,
        "id": "8a_KKwRLV94A"
      },
      "outputs": [],
      "source": [
        "def show_mel_spectrogram(waveform, sample_rate):\n",
        "    mel_spectrogram = torchaudio.transforms.MelSpectrogram(\n",
        "            sample_rate=sample_rate,\n",
        "            n_mels=64,\n",
        "            n_fft=1024\n",
        "    )(waveform)\n",
        "\n",
        "    print(\"Shape of spectrogram: {}\".format(mel_spectrogram.size()))\n",
        "\n",
        "    plt.figure()\n",
        "\n",
        "    plt.imshow(mel_spectrogram.log2()[0, :, :].numpy(), cmap='viridis', aspect='auto')"
      ]
    },
    {
      "cell_type": "code",
      "execution_count": null,
      "metadata": {
        "ExecuteTime": {
          "end_time": "2023-10-13T11:47:59.361638700Z",
          "start_time": "2023-10-13T11:47:59.093696300Z"
        },
        "execution": {
          "iopub.execute_input": "2024-05-25T09:22:28.644436Z",
          "iopub.status.busy": "2024-05-25T09:22:28.643925Z",
          "iopub.status.idle": "2024-05-25T09:22:29.101812Z",
          "shell.execute_reply": "2024-05-25T09:22:29.100973Z",
          "shell.execute_reply.started": "2024-05-25T09:22:28.644397Z"
        },
        "jupyter": {
          "outputs_hidden": false
        },
        "trusted": true,
        "id": "u0bTYwy8V94A"
      },
      "outputs": [],
      "source": [
        "show_mel_spectrogram(screaming_waveform, screaming_sample_rate)"
      ]
    },
    {
      "cell_type": "code",
      "execution_count": null,
      "metadata": {
        "ExecuteTime": {
          "end_time": "2023-10-13T11:48:01.652522500Z",
          "start_time": "2023-10-13T11:48:01.342473600Z"
        },
        "execution": {
          "iopub.execute_input": "2024-05-25T09:22:29.103730Z",
          "iopub.status.busy": "2024-05-25T09:22:29.103175Z",
          "iopub.status.idle": "2024-05-25T09:22:29.537405Z",
          "shell.execute_reply": "2024-05-25T09:22:29.536085Z",
          "shell.execute_reply.started": "2024-05-25T09:22:29.103694Z"
        },
        "jupyter": {
          "outputs_hidden": false
        },
        "trusted": true,
        "id": "swPoPF-lV94A"
      },
      "outputs": [],
      "source": [
        "show_mel_spectrogram(not_screaming_waveform, not_screaming_sample_rate)"
      ]
    },
    {
      "cell_type": "code",
      "execution_count": null,
      "metadata": {
        "ExecuteTime": {
          "end_time": "2023-10-13T11:48:42.783778800Z",
          "start_time": "2023-10-13T11:48:42.754361800Z"
        },
        "execution": {
          "iopub.execute_input": "2024-05-25T09:22:29.539192Z",
          "iopub.status.busy": "2024-05-25T09:22:29.538817Z",
          "iopub.status.idle": "2024-05-25T09:22:29.546583Z",
          "shell.execute_reply": "2024-05-25T09:22:29.545443Z",
          "shell.execute_reply.started": "2024-05-25T09:22:29.539160Z"
        },
        "jupyter": {
          "outputs_hidden": false
        },
        "trusted": true,
        "id": "YqKUss4xV94A"
      },
      "outputs": [],
      "source": [
        "def show_mfcc(waveform, sample_rate):\n",
        "    mfcc_spectrogram = torchaudio.transforms.MFCC(\n",
        "            sample_rate=sample_rate,\n",
        "            n_mfcc=128\n",
        "    )(waveform)\n",
        "\n",
        "    print(\"Shape of spectrogram: {}\".format(mfcc_spectrogram.size()))\n",
        "\n",
        "    plt.figure()\n",
        "\n",
        "    plt.imshow(mfcc_spectrogram.log2()[0, :, :].numpy(), cmap='viridis', aspect='auto')\n",
        "\n",
        "    plt.figure()\n",
        "    plt.plot(mfcc_spectrogram.log2()[0, :, :].numpy())\n",
        "    plt.draw()"
      ]
    },
    {
      "cell_type": "code",
      "execution_count": null,
      "metadata": {
        "ExecuteTime": {
          "end_time": "2023-10-13T11:48:45.825421400Z",
          "start_time": "2023-10-13T11:48:44.231288Z"
        },
        "execution": {
          "iopub.execute_input": "2024-05-25T09:22:29.548192Z",
          "iopub.status.busy": "2024-05-25T09:22:29.547819Z",
          "iopub.status.idle": "2024-05-25T09:22:32.956714Z",
          "shell.execute_reply": "2024-05-25T09:22:32.955254Z",
          "shell.execute_reply.started": "2024-05-25T09:22:29.548163Z"
        },
        "jupyter": {
          "outputs_hidden": false
        },
        "trusted": true,
        "id": "LcjeuBe3V94B"
      },
      "outputs": [],
      "source": [
        "show_mfcc(screaming_waveform,  screaming_sample_rate)"
      ]
    },
    {
      "cell_type": "code",
      "execution_count": null,
      "metadata": {
        "ExecuteTime": {
          "end_time": "2023-10-13T11:48:51.796673400Z",
          "start_time": "2023-10-13T11:48:49.984415600Z"
        },
        "execution": {
          "iopub.execute_input": "2024-05-25T09:22:32.958800Z",
          "iopub.status.busy": "2024-05-25T09:22:32.958343Z",
          "iopub.status.idle": "2024-05-25T09:22:36.168936Z",
          "shell.execute_reply": "2024-05-25T09:22:36.167756Z",
          "shell.execute_reply.started": "2024-05-25T09:22:32.958757Z"
        },
        "jupyter": {
          "outputs_hidden": false
        },
        "trusted": true,
        "id": "Pd6EkgH1V94B"
      },
      "outputs": [],
      "source": [
        "show_mfcc(not_screaming_waveform,  not_screaming_sample_rate)"
      ]
    },
    {
      "cell_type": "markdown",
      "metadata": {
        "id": "DizCWVVRV94B"
      },
      "source": []
    },
    {
      "cell_type": "markdown",
      "metadata": {
        "id": "efPyIWyZV94B"
      },
      "source": [
        "# Preprogress for the audio"
      ]
    },
    {
      "cell_type": "code",
      "execution_count": null,
      "metadata": {
        "ExecuteTime": {
          "end_time": "2023-10-13T07:51:25.998842300Z",
          "start_time": "2023-10-13T07:51:25.989247500Z"
        },
        "execution": {
          "iopub.execute_input": "2024-05-25T09:22:36.171596Z",
          "iopub.status.busy": "2024-05-25T09:22:36.170612Z",
          "iopub.status.idle": "2024-05-25T09:22:36.180732Z",
          "shell.execute_reply": "2024-05-25T09:22:36.179509Z",
          "shell.execute_reply.started": "2024-05-25T09:22:36.171559Z"
        },
        "jupyter": {
          "outputs_hidden": false
        },
        "trusted": true,
        "id": "PNmi5iTPV94B"
      },
      "outputs": [],
      "source": [
        "def pad_waveform(waveform, target_length):\n",
        "    _, num_channels, current_length = waveform.shape\n",
        "\n",
        "    if current_length < target_length:\n",
        "        padding = target_length - current_length\n",
        "        waveform = torch.nn.functional.pad(waveform, (0, padding))\n",
        "\n",
        "    return waveform\n",
        "\n",
        "\n",
        "def create_images(train_loader, label_dir, amplitude_threshold=0.01):\n",
        "    directory = f'Data/Images/{label_dir}/'\n",
        "    if os.path.isdir(directory):\n",
        "        print(\"Data exists for\", label_dir)\n",
        "    else:\n",
        "        os.makedirs(directory, mode=0o777, exist_ok=True)\n",
        "\n",
        "        for i, data in enumerate(train_loader):\n",
        "            waveform = data['waveform']\n",
        "\n",
        "            waveform = pad_waveform(waveform, 441000)\n",
        "\n",
        "            if torch.max(torch.abs(waveform)) > amplitude_threshold:\n",
        "                spectrogram_tensor = torchaudio.transforms.MelSpectrogram(\n",
        "                    sample_rate=int(data['sample_rate']),\n",
        "                    n_mels=64,\n",
        "                    n_fft=1024,\n",
        "                )(waveform)\n",
        "\n",
        "                plt.imsave(f'Data/Images/{label_dir}/audio_img{i}.png', (spectrogram_tensor[0] + 1e-10).log2()[0, :, :].numpy(), cmap='viridis')\n",
        "            else:\n",
        "                print(f'Skipping blank waveform {i} in {label_dir}')"
      ]
    },
    {
      "cell_type": "code",
      "execution_count": null,
      "metadata": {
        "ExecuteTime": {
          "end_time": "2023-10-13T07:51:26.008439200Z",
          "start_time": "2023-10-13T07:51:25.998842300Z"
        },
        "execution": {
          "iopub.execute_input": "2024-05-25T09:22:36.182578Z",
          "iopub.status.busy": "2024-05-25T09:22:36.182219Z",
          "iopub.status.idle": "2024-05-25T09:22:36.198222Z",
          "shell.execute_reply": "2024-05-25T09:22:36.197040Z",
          "shell.execute_reply.started": "2024-05-25T09:22:36.182546Z"
        },
        "jupyter": {
          "outputs_hidden": false
        },
        "trusted": true,
        "id": "Si7IaJiYV94B"
      },
      "outputs": [],
      "source": [
        "from torch.utils.data import DataLoader\n",
        "\n",
        "train_loader_scream = DataLoader(screaming_dataset, batch_size=1,\n",
        "                                              shuffle=False, num_workers=0)\n",
        "train_loader_not_scream = DataLoader(not_screaming_dataset, batch_size=1,\n",
        "                                             shuffle=False, num_workers=0)"
      ]
    },
    {
      "cell_type": "code",
      "execution_count": null,
      "metadata": {
        "ExecuteTime": {
          "end_time": "2023-10-13T07:53:23.436399500Z",
          "start_time": "2023-10-13T07:52:29.979576200Z"
        },
        "execution": {
          "iopub.execute_input": "2024-05-25T09:22:36.200523Z",
          "iopub.status.busy": "2024-05-25T09:22:36.200046Z",
          "iopub.status.idle": "2024-05-25T09:23:13.527238Z",
          "shell.execute_reply": "2024-05-25T09:23:13.525413Z",
          "shell.execute_reply.started": "2024-05-25T09:22:36.200467Z"
        },
        "jupyter": {
          "outputs_hidden": false
        },
        "trusted": true,
        "id": "oMj0P-P9V94B"
      },
      "outputs": [],
      "source": [
        "create_images(train_loader_scream, 'scream')"
      ]
    },
    {
      "cell_type": "code",
      "execution_count": null,
      "metadata": {
        "ExecuteTime": {
          "end_time": "2023-10-13T07:56:09.793680300Z",
          "start_time": "2023-10-13T07:53:32.463797500Z"
        },
        "execution": {
          "iopub.execute_input": "2024-05-25T09:23:13.529937Z",
          "iopub.status.busy": "2024-05-25T09:23:13.529336Z",
          "iopub.status.idle": "2024-05-25T09:25:12.784359Z",
          "shell.execute_reply": "2024-05-25T09:25:12.782909Z",
          "shell.execute_reply.started": "2024-05-25T09:23:13.529886Z"
        },
        "jupyter": {
          "outputs_hidden": false
        },
        "trusted": true,
        "id": "Tc-YWuIbV94C"
      },
      "outputs": [],
      "source": [
        "create_images(train_loader_not_scream, 'not')"
      ]
    },
    {
      "cell_type": "markdown",
      "metadata": {
        "id": "qN7RRKDWV94C"
      },
      "source": [
        "# Optional Noise"
      ]
    },
    {
      "cell_type": "code",
      "execution_count": null,
      "metadata": {
        "ExecuteTime": {
          "end_time": "2023-10-13T07:56:28.132581600Z",
          "start_time": "2023-10-13T07:56:26.637309Z"
        },
        "execution": {
          "iopub.execute_input": "2024-05-25T09:25:12.788035Z",
          "iopub.status.busy": "2024-05-25T09:25:12.786214Z",
          "iopub.status.idle": "2024-05-25T09:25:13.521583Z",
          "shell.execute_reply": "2024-05-25T09:25:13.519962Z",
          "shell.execute_reply.started": "2024-05-25T09:25:12.787979Z"
        },
        "jupyter": {
          "outputs_hidden": false
        },
        "trusted": true,
        "id": "j5xr6RMqV94C"
      },
      "outputs": [],
      "source": [
        "from torchvision.transforms import Lambda\n",
        "import torch\n",
        "\n",
        "def random_time_shift(audio, max_shift_ms=1000, target_length=441000):\n",
        "    current_length = audio.shape[-1]\n",
        "\n",
        "    if current_length >= target_length:\n",
        "        shift = torch.randint(-max_shift_ms, max_shift_ms, (1,)).item()\n",
        "        shift_samples = int(shift * 44100 / 1000)  # Assuming a 44.1 kHz sample rate\n",
        "        if shift_samples >= 0:\n",
        "            audio = torch.nn.functional.pad(audio, (shift_samples, 0))\n",
        "            audio = audio[:, :target_length]\n",
        "        else:\n",
        "            audio = torch.nn.functional.pad(audio, (0, -shift_samples))\n",
        "            audio = audio[:, -target_length:]\n",
        "    else:\n",
        "        padding = target_length - current_length\n",
        "        shift_samples = torch.randint(1, padding, (1,)).item()\n",
        "\n",
        "        left_padding = torch.randint(0, shift_samples, (1,)).item()\n",
        "\n",
        "        right_padding = padding - left_padding\n",
        "\n",
        "        audio = torch.nn.functional.pad(audio, (left_padding, right_padding))\n",
        "\n",
        "    return audio"
      ]
    },
    {
      "cell_type": "code",
      "execution_count": null,
      "metadata": {
        "ExecuteTime": {
          "end_time": "2023-10-13T07:56:29.178039600Z",
          "start_time": "2023-10-13T07:56:29.146106600Z"
        },
        "execution": {
          "iopub.execute_input": "2024-05-25T09:25:13.524700Z",
          "iopub.status.busy": "2024-05-25T09:25:13.524201Z",
          "iopub.status.idle": "2024-05-25T09:25:13.532094Z",
          "shell.execute_reply": "2024-05-25T09:25:13.530586Z",
          "shell.execute_reply.started": "2024-05-25T09:25:13.524651Z"
        },
        "jupyter": {
          "outputs_hidden": false
        },
        "trusted": true,
        "id": "CvW7oI-SV94C"
      },
      "outputs": [],
      "source": [
        "def add_noise(audio, noise_level=0.005):\n",
        "    noise = noise_level * torch.randn_like(audio)\n",
        "    noisy_audio = audio + noise\n",
        "    return noisy_audio"
      ]
    },
    {
      "cell_type": "code",
      "execution_count": null,
      "metadata": {
        "ExecuteTime": {
          "end_time": "2023-10-13T07:56:30.689992500Z",
          "start_time": "2023-10-13T07:56:30.659476500Z"
        },
        "execution": {
          "iopub.execute_input": "2024-05-25T09:25:13.534446Z",
          "iopub.status.busy": "2024-05-25T09:25:13.533947Z",
          "iopub.status.idle": "2024-05-25T09:25:13.552771Z",
          "shell.execute_reply": "2024-05-25T09:25:13.551766Z",
          "shell.execute_reply.started": "2024-05-25T09:25:13.534408Z"
        },
        "jupyter": {
          "outputs_hidden": false
        },
        "trusted": true,
        "id": "5OmypbOQV94C"
      },
      "outputs": [],
      "source": [
        "from torchvision.transforms import Compose\n",
        "\n",
        "def augment_audio(audio):\n",
        "    transform_audio = Compose([\n",
        "        Lambda(lambda x: random_time_shift(x))\n",
        "    ])\n",
        "\n",
        "    augmented_audio = transform_audio(audio)\n",
        "\n",
        "    return augmented_audio"
      ]
    },
    {
      "cell_type": "code",
      "execution_count": null,
      "metadata": {
        "ExecuteTime": {
          "end_time": "2023-10-13T07:56:32.581578400Z",
          "start_time": "2023-10-13T07:56:32.468967900Z"
        },
        "execution": {
          "iopub.execute_input": "2024-05-25T09:25:13.554895Z",
          "iopub.status.busy": "2024-05-25T09:25:13.554105Z",
          "iopub.status.idle": "2024-05-25T09:25:13.579436Z",
          "shell.execute_reply": "2024-05-25T09:25:13.577747Z",
          "shell.execute_reply.started": "2024-05-25T09:25:13.554834Z"
        },
        "jupyter": {
          "outputs_hidden": false
        },
        "trusted": true,
        "id": "HUPcbHbrV94D"
      },
      "outputs": [],
      "source": [
        "shift_audio = augment_audio(screaming_waveform)\n",
        "shift_audio.shape"
      ]
    },
    {
      "cell_type": "code",
      "execution_count": null,
      "metadata": {
        "ExecuteTime": {
          "end_time": "2023-10-13T07:56:34.417874200Z",
          "start_time": "2023-10-13T07:56:34.129993500Z"
        },
        "execution": {
          "iopub.execute_input": "2024-05-25T09:25:13.586606Z",
          "iopub.status.busy": "2024-05-25T09:25:13.585782Z",
          "iopub.status.idle": "2024-05-25T09:25:13.965910Z",
          "shell.execute_reply": "2024-05-25T09:25:13.964141Z",
          "shell.execute_reply.started": "2024-05-25T09:25:13.586558Z"
        },
        "jupyter": {
          "outputs_hidden": false
        },
        "trusted": true,
        "id": "3oZNlmwbV94D"
      },
      "outputs": [],
      "source": [
        "show_waveform(shift_audio, screaming_sample_rate, 'Test')"
      ]
    },
    {
      "cell_type": "code",
      "execution_count": null,
      "metadata": {
        "ExecuteTime": {
          "end_time": "2023-10-13T07:56:35.599024Z",
          "start_time": "2023-10-13T07:56:35.574465700Z"
        },
        "execution": {
          "iopub.execute_input": "2024-05-25T09:25:13.968542Z",
          "iopub.status.busy": "2024-05-25T09:25:13.967481Z",
          "iopub.status.idle": "2024-05-25T09:25:13.979013Z",
          "shell.execute_reply": "2024-05-25T09:25:13.977371Z",
          "shell.execute_reply.started": "2024-05-25T09:25:13.968497Z"
        },
        "jupyter": {
          "outputs_hidden": false
        },
        "trusted": true,
        "id": "tPgj9ikEV94D"
      },
      "outputs": [],
      "source": [
        "def create_shift_images(train_loader, label_dir, amplitude_threshold=0.01, shift_time=0):\n",
        "    for i, data in enumerate(train_loader):\n",
        "        waveform = data['waveform']\n",
        "\n",
        "        waveform = random_time_shift(waveform)\n",
        "\n",
        "        if torch.max(torch.abs(waveform)) > amplitude_threshold:\n",
        "            spectrogram_tensor = torchaudio.transforms.MelSpectrogram(\n",
        "                sample_rate=int(data['sample_rate']),\n",
        "                n_mels=64,\n",
        "                n_fft=1024,\n",
        "            )(waveform)\n",
        "\n",
        "            if spectrogram_tensor[0].log2().isnan().any() or spectrogram_tensor[0].log2().isinf().any():\n",
        "                continue\n",
        "\n",
        "            plt.imsave(f'Data/Images/{label_dir}/audio_img{i}_shift{shift_time}.png', spectrogram_tensor[0].log2()[0, :, :].numpy(), cmap='viridis')\n",
        "        else:\n",
        "            print(f'Skipping blank waveform {i} in {label_dir}')\n",
        "\n",
        "    return 'Done!'"
      ]
    },
    {
      "cell_type": "markdown",
      "metadata": {
        "id": "vR85paP-V94D"
      },
      "source": [
        "# To balance the data for positive we add random shift or noise or even both to increase the data size"
      ]
    },
    {
      "cell_type": "code",
      "execution_count": null,
      "metadata": {
        "ExecuteTime": {
          "end_time": "2023-10-13T07:58:04.921767Z",
          "start_time": "2023-10-13T07:56:37.965458900Z"
        },
        "execution": {
          "iopub.execute_input": "2024-05-25T09:25:13.982254Z",
          "iopub.status.busy": "2024-05-25T09:25:13.980837Z",
          "iopub.status.idle": "2024-05-25T09:26:00.726511Z",
          "shell.execute_reply": "2024-05-25T09:26:00.725190Z",
          "shell.execute_reply.started": "2024-05-25T09:25:13.982210Z"
        },
        "jupyter": {
          "outputs_hidden": false
        },
        "trusted": true,
        "id": "gsepJrmwV94D"
      },
      "outputs": [],
      "source": [
        "[create_shift_images(train_loader_scream, 'scream', shift_time=i) for i in range(5)]"
      ]
    },
    {
      "cell_type": "code",
      "execution_count": null,
      "metadata": {
        "jupyter": {
          "outputs_hidden": false
        },
        "id": "LQ4Vh0zZV94E"
      },
      "outputs": [],
      "source": []
    }
  ],
  "metadata": {
    "kaggle": {
      "accelerator": "none",
      "dataSources": [
        {
          "datasetId": 4083138,
          "sourceId": 7086984,
          "sourceType": "datasetVersion"
        }
      ],
      "dockerImageVersionId": 30587,
      "isGpuEnabled": false,
      "isInternetEnabled": false,
      "language": "python",
      "sourceType": "notebook"
    },
    "kernelspec": {
      "display_name": "Python 3",
      "language": "python",
      "name": "python3"
    },
    "language_info": {
      "codemirror_mode": {
        "name": "ipython",
        "version": 3
      },
      "file_extension": ".py",
      "mimetype": "text/x-python",
      "name": "python",
      "nbconvert_exporter": "python",
      "pygments_lexer": "ipython3",
      "version": "3.10.12"
    },
    "colab": {
      "provenance": [],
      "include_colab_link": true
    }
  },
  "nbformat": 4,
  "nbformat_minor": 0
}